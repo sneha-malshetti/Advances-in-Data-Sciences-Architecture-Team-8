{
 "cells": [
  {
   "cell_type": "code",
   "execution_count": 16,
   "metadata": {},
   "outputs": [],
   "source": [
    "#!/usr/bin/python\n",
    "import requests\n",
    "import sys\n",
    "import urllib\n",
    "import os\n",
    "import errno\n",
    "from time import sleep\n",
    "import urllib.request\n",
    "\n",
    "\n",
    "with requests.Session() as sess:\n",
    "    #Constants Declaration\n",
    "    USERNAME = 'malshetti.s@husky.neu.edu'\n",
    "    PASSWORD = 'NlGoGFC9'\n",
    "    START_YEAR = 2005\n",
    "    END_YEAR = 2016\n",
    "    DIR_NAME = \"downloaded_samples\"\n",
    "    login_page_url = 'https://freddiemac.embs.com/FLoan/secure/auth.php'\n",
    "    download_page_url = 'https://freddiemac.embs.com/FLoan/Data/download.php'\n",
    "    sess.get(login_page_url);\n",
    "    php_session_cookie = sess.cookies['PHPSESSID']\n",
    "    login_payload = {'username' : USERNAME, 'password' : PASSWORD,'cookie':php_session_cookie}\n",
    "    response_login = sess.post(login_page_url, data = login_payload)\n",
    "    download_page_payload = {'accept': 'Yes', 'action': 'acceptTandC', 'acceptSubmit': 'Continue', 'cookie': php_session_cookie}\n",
    "    response_download = sess.post(download_page_url, data=download_page_payload)\n",
    "\n",
    "    curr_dir=os.getcwd()\n",
    "    if not os.path.exists(DIR_NAME):\n",
    "        try:\n",
    "            os.makedirs(DIR_NAME)\n",
    "        except OSError as e:\n",
    "                if e.errno != errno.EEXIST:\n",
    "                    raise\n",
    "                while END_YEAR >= START_YEAR :\n",
    "                    counter=1;\n",
    "                    max_counter_range=END_YEAR - START_YEAR\n",
    "                    with urllib.request.urlopen('https://freddiemac.embs.com/FLoan/Data/sample_'+str(START_YEAR)+'.zip') as response:\n",
    "                        zipcontent = response.read()\n",
    "                    with open(DIR_NAME+\"/sample_\"+str(START_YEAR)+'.zip', 'w') as file:\n",
    "                        file.write(zipcontent)\n",
    "                        print (\"sample_\"+str(START_YEAR)+\".zip download complete !\")\n",
    "                        START_YEAR+=1\n",
    "            \n",
    "            \n",
    "            #           response = urllib2.urlopen('https://freddiemac.embs.com/FLoan/Data/sample_'+str(START_YEAR)+'.zip')\n",
    "#           zipcontent = response.read()"
   ]
  },
  {
   "cell_type": "code",
   "execution_count": null,
   "metadata": {
    "collapsed": true
   },
   "outputs": [],
   "source": []
  },
  {
   "cell_type": "code",
   "execution_count": null,
   "metadata": {
    "collapsed": true
   },
   "outputs": [],
   "source": []
  }
 ],
 "metadata": {
  "kernelspec": {
   "display_name": "Python 3",
   "language": "python",
   "name": "python3"
  },
  "language_info": {
   "codemirror_mode": {
    "name": "ipython",
    "version": 3
   },
   "file_extension": ".py",
   "mimetype": "text/x-python",
   "name": "python",
   "nbconvert_exporter": "python",
   "pygments_lexer": "ipython3",
   "version": "3.6.1"
  }
 },
 "nbformat": 4,
 "nbformat_minor": 2
}
