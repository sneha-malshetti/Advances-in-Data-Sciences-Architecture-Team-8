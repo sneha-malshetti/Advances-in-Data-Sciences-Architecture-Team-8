{
 "cells": [
  {
   "cell_type": "code",
<<<<<<< HEAD
   "execution_count": 6,
   "metadata": {
    "collapsed": false
   },
   "outputs": [
    {
     "ename": "TypeError",
     "evalue": "write() argument must be str, not bytes",
     "output_type": "error",
     "traceback": [
      "\u001b[0;31m---------------------------------------------------------------------------\u001b[0m",
      "\u001b[0;31mTypeError\u001b[0m                                 Traceback (most recent call last)",
      "\u001b[0;32m<ipython-input-6-311e8caf5587>\u001b[0m in \u001b[0;36m<module>\u001b[0;34m()\u001b[0m\n\u001b[1;32m     49\u001b[0m \u001b[1;31m#           zipcontent = response.read()\u001b[0m\u001b[1;33m\u001b[0m\u001b[1;33m\u001b[0m\u001b[0m\n\u001b[1;32m     50\u001b[0m         \u001b[1;32mwith\u001b[0m \u001b[0mopen\u001b[0m\u001b[1;33m(\u001b[0m\u001b[0mDIR_NAME\u001b[0m\u001b[1;33m+\u001b[0m\u001b[1;34m\"/sample_\"\u001b[0m\u001b[1;33m+\u001b[0m\u001b[0mstr\u001b[0m\u001b[1;33m(\u001b[0m\u001b[0mSTART_YEAR\u001b[0m\u001b[1;33m)\u001b[0m\u001b[1;33m+\u001b[0m\u001b[1;34m'.zip'\u001b[0m\u001b[1;33m,\u001b[0m \u001b[1;34m'w'\u001b[0m\u001b[1;33m)\u001b[0m \u001b[1;32mas\u001b[0m \u001b[0mfile\u001b[0m\u001b[1;33m:\u001b[0m\u001b[1;33m\u001b[0m\u001b[0m\n\u001b[0;32m---> 51\u001b[0;31m             \u001b[0mfile\u001b[0m\u001b[1;33m.\u001b[0m\u001b[0mwrite\u001b[0m\u001b[1;33m(\u001b[0m\u001b[0mzipcontent\u001b[0m\u001b[1;33m)\u001b[0m\u001b[1;33m\u001b[0m\u001b[0m\n\u001b[0m\u001b[1;32m     52\u001b[0m         \u001b[0mprint\u001b[0m \u001b[1;33m(\u001b[0m\u001b[1;34m\"sample_\"\u001b[0m\u001b[1;33m+\u001b[0m\u001b[0mstr\u001b[0m\u001b[1;33m(\u001b[0m\u001b[0mSTART_YEAR\u001b[0m\u001b[1;33m)\u001b[0m\u001b[1;33m+\u001b[0m\u001b[1;34m\".zip download complete !\"\u001b[0m\u001b[1;33m)\u001b[0m\u001b[1;33m\u001b[0m\u001b[0m\n\u001b[1;32m     53\u001b[0m         \u001b[0mSTART_YEAR\u001b[0m\u001b[1;33m+=\u001b[0m\u001b[1;36m1\u001b[0m\u001b[1;33m\u001b[0m\u001b[0m\n",
      "\u001b[0;31mTypeError\u001b[0m: write() argument must be str, not bytes"
     ]
    }
   ],
=======
   "execution_count": 16,
   "metadata": {},
   "outputs": [],
>>>>>>> bae576870b1d43c9fa3e282a73271ec472ae0c76
   "source": [
    "#!/usr/bin/python\n",
    "import requests\n",
    "import sys\n",
    "import urllib\n",
    "import os\n",
    "import errno\n",
    "from time import sleep\n",
    "import urllib.request\n",
<<<<<<< HEAD
    "import json\n",
    "\n",
    "\n",
    "with requests.Session() as sess:\n",
    "\n",
    "      #Constants Declaration from json file \n",
    "    with open('config.json') as data_file:    \n",
    "        data = json.load(data_file)\n",
    "    USERNAME = data[\"USERNAME\"]\n",
    "    PASSWORD = data[\"PASSWORD\"]\n",
    "    START_YEAR = int(data[\"START_YEAR\"])\n",
    "    END_YEAR = int(data[\"END_YEAR\"])\n",
    "    DIR_NAME = data[\"DIR_NAME\"]\n",
    "\n",
    "    login_page_url = data[\"login_page_url\"]\n",
    "    download_page_url = data[\"download_page_url\"]\n",
    "\n",
=======
    "\n",
    "\n",
    "with requests.Session() as sess:\n",
    "    #Constants Declaration\n",
    "    USERNAME = 'malshetti.s@husky.neu.edu'\n",
    "    PASSWORD = 'NlGoGFC9'\n",
    "    START_YEAR = 2005\n",
    "    END_YEAR = 2016\n",
    "    DIR_NAME = \"downloaded_samples\"\n",
    "    login_page_url = 'https://freddiemac.embs.com/FLoan/secure/auth.php'\n",
    "    download_page_url = 'https://freddiemac.embs.com/FLoan/Data/download.php'\n",
>>>>>>> bae576870b1d43c9fa3e282a73271ec472ae0c76
    "    sess.get(login_page_url);\n",
    "    php_session_cookie = sess.cookies['PHPSESSID']\n",
    "    login_payload = {'username' : USERNAME, 'password' : PASSWORD,'cookie':php_session_cookie}\n",
    "    response_login = sess.post(login_page_url, data = login_payload)\n",
    "    download_page_payload = {'accept': 'Yes', 'action': 'acceptTandC', 'acceptSubmit': 'Continue', 'cookie': php_session_cookie}\n",
    "    response_download = sess.post(download_page_url, data=download_page_payload)\n",
    "\n",
    "    curr_dir=os.getcwd()\n",
<<<<<<< HEAD
    "\n",
=======
>>>>>>> bae576870b1d43c9fa3e282a73271ec472ae0c76
    "    if not os.path.exists(DIR_NAME):\n",
    "        try:\n",
    "            os.makedirs(DIR_NAME)\n",
    "        except OSError as e:\n",
<<<<<<< HEAD
    "            if e.errno != errno.EEXIST:\n",
    "                 raise\n",
    "\n",
    "    while END_YEAR >= START_YEAR :\n",
    "        counter=1;\n",
    "        max_counter_range=END_YEAR - START_YEAR\n",
    "          \n",
    "        with urllib.request.urlopen('https://freddiemac.embs.com/FLoan/Data/sample_'+str(START_YEAR)+'.zip') as response:\n",
    "            zipcontent = response.read()\n",
    "#           response = urllib2.urlopen('https://freddiemac.embs.com/FLoan/Data/sample_'+str(START_YEAR)+'.zip')\n",
    "#           zipcontent = response.read()\n",
    "        with open(DIR_NAME+\"/sample_\"+str(START_YEAR)+'.zip', 'w') as file:\n",
    "            file.write(zipcontent)\n",
    "        print (\"sample_\"+str(START_YEAR)+\".zip download complete !\")\n",
    "        START_YEAR+=1"
=======
    "                if e.errno != errno.EEXIST:\n",
    "                    raise\n",
    "                while END_YEAR >= START_YEAR :\n",
    "                    counter=1;\n",
    "                    max_counter_range=END_YEAR - START_YEAR\n",
    "                    with urllib.request.urlopen('https://freddiemac.embs.com/FLoan/Data/sample_'+str(START_YEAR)+'.zip') as response:\n",
    "                        zipcontent = response.read()\n",
    "                    with open(DIR_NAME+\"/sample_\"+str(START_YEAR)+'.zip', 'w') as file:\n",
    "                        file.write(zipcontent)\n",
    "                        print (\"sample_\"+str(START_YEAR)+\".zip download complete !\")\n",
    "                        START_YEAR+=1\n",
    "            \n",
    "            \n",
    "            #           response = urllib2.urlopen('https://freddiemac.embs.com/FLoan/Data/sample_'+str(START_YEAR)+'.zip')\n",
    "#           zipcontent = response.read()"
>>>>>>> bae576870b1d43c9fa3e282a73271ec472ae0c76
   ]
  },
  {
   "cell_type": "code",
   "execution_count": null,
   "metadata": {
    "collapsed": true
   },
   "outputs": [],
   "source": []
<<<<<<< HEAD
=======
  },
  {
   "cell_type": "code",
   "execution_count": null,
   "metadata": {
    "collapsed": true
   },
   "outputs": [],
   "source": []
>>>>>>> bae576870b1d43c9fa3e282a73271ec472ae0c76
  }
 ],
 "metadata": {
  "kernelspec": {
   "display_name": "Python 3",
   "language": "python",
   "name": "python3"
  },
  "language_info": {
   "codemirror_mode": {
    "name": "ipython",
    "version": 3
   },
   "file_extension": ".py",
   "mimetype": "text/x-python",
   "name": "python",
   "nbconvert_exporter": "python",
   "pygments_lexer": "ipython3",
<<<<<<< HEAD
   "version": "3.6.0"
=======
   "version": "3.6.1"
>>>>>>> bae576870b1d43c9fa3e282a73271ec472ae0c76
  }
 },
 "nbformat": 4,
 "nbformat_minor": 2
}
